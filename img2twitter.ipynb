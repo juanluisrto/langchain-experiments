{
 "cells": [
  {
   "cell_type": "code",
   "execution_count": 3,
   "id": "3200f204-4f11-4202-accd-42478146d4ba",
   "metadata": {},
   "outputs": [],
   "source": [
    "import os\n",
    "#os.chdir(\"firecitadel\")\n",
    "\n",
    "from utils import *\n",
    "import json, logging, random\n",
    "\n",
    "logger = logging.getLogger()\n",
    "logger.setLevel(logging.INFO)\n"
   ]
  },
  {
   "cell_type": "code",
   "execution_count": 4,
   "id": "c36e9a84-5bae-4c00-a6c2-a861dd272d0c",
   "metadata": {},
   "outputs": [],
   "source": [
    "\n",
    "# Configure the root logger to log at the \"INFO\" level\n",
    "logging.basicConfig(level=logging.INFO)\n",
    "\n",
    "with open(\"templates.json\", \"r+\") as fp:\n",
    "    templates = json.load(fp)\n",
    "    styles = templates[\"styles\"]\n",
    "    environments = templates[\"environments\"]\n",
    "\n",
    "style = random.choice(styles)\n",
    "environment = random.choice(environments)"
   ]
  },
  {
   "cell_type": "code",
   "execution_count": 26,
   "id": "78782407-298f-4141-b9d9-547ba083d72e",
   "metadata": {},
   "outputs": [
    {
     "name": "stderr",
     "output_type": "stream",
     "text": [
      "INFO:root:Generating image with Banana style, in a Casino environment\n"
     ]
    }
   ],
   "source": [
    "style = \"Banana\"\n",
    "environment = \"Casino\"\n",
    "logging.info(f\"Generating image with {style} style, in a {environment} environment\")"
   ]
  },
  {
   "cell_type": "code",
   "execution_count": 25,
   "id": "36a32910-6ca6-4e1b-983c-796999db88b4",
   "metadata": {},
   "outputs": [
    {
     "name": "stderr",
     "output_type": "stream",
     "text": [
      "INFO:root:Story: The banana was feeling lucky, so it put its peel out on the floor. As the gambler approached, they slipped and knocked over the entire slot machine row, causing chaos and a banana-filled triumph.\n"
     ]
    }
   ],
   "source": [
    "story_chain = create_storyteller_chain(temperature = 1.2)\n",
    "\n",
    "def more_than_n_characters(text, n = 280):\n",
    "    return len(text) > n\n",
    "\n",
    "# Generate Story\n",
    "cant_be_tweeted = True\n",
    "while cant_be_tweeted:\n",
    "    story = story_chain.run({\"style\" : style, \"environment\" : environment})\n",
    "    if cant_be_tweeted := more_than_n_characters(story):\n",
    "        logging.warning(f\"The story has {len(story)} characters. Trying again\")\n",
    "    else:\n",
    "        logging.info(f\"Story: {story}\")\n",
    "    "
   ]
  },
  {
   "cell_type": "code",
   "execution_count": null,
   "id": "bc1967d0-2f81-4c6e-b2d3-01aee17b1d93",
   "metadata": {},
   "outputs": [],
   "source": [
    "\n",
    "# Generate Description of the story\n",
    "\n",
    "img_chain = create_imagedescription_chain()\n",
    "img_description = img_chain.run(story)\n",
    "logging.info(f\"Scene description: {img_description}\")\n"
   ]
  },
  {
   "cell_type": "code",
   "execution_count": 18,
   "id": "eae25eab-522f-461d-838e-443f8cec8368",
   "metadata": {},
   "outputs": [
    {
     "name": "stderr",
     "output_type": "stream",
     "text": [
      "INFO:root:Generated image: https://pub-3626123a908346a7a8be8d9295f44e26.r2.dev/generations/0-02b3d597-513b-4ffe-9d3d-851debc7b701.png\n"
     ]
    }
   ],
   "source": [
    "\n",
    "# Generate image\n",
    "image_urls = text_to_image(story, model = MODELS.DREAM_SHAPER)\n",
    "url = image_urls[0]\n",
    "\n",
    "logging.info(f\"Generated image: {url}\")"
   ]
  },
  {
   "cell_type": "code",
   "execution_count": 19,
   "id": "6976dc31-3126-4969-83bd-d32a746ad3a6",
   "metadata": {},
   "outputs": [
    {
     "data": {
      "text/html": [
       "<img src=\"https://pub-3626123a908346a7a8be8d9295f44e26.r2.dev/generations/0-02b3d597-513b-4ffe-9d3d-851debc7b701.png\" width=\"500\"/>"
      ],
      "text/plain": [
       "<IPython.core.display.Image object>"
      ]
     },
     "metadata": {},
     "output_type": "display_data"
    }
   ],
   "source": [
    "from IPython.display import Image \n",
    "img = Image(url = url, width = 500)\n",
    "display(img)"
   ]
  },
  {
   "cell_type": "code",
   "execution_count": null,
   "id": "561b98bd-025a-423a-8505-406bb5524345",
   "metadata": {},
   "outputs": [],
   "source": [
    "# Upload image and publish tweet\n",
    "\n",
    "tw_client = get_tweepy_client()\n",
    "api = get_tweepy_API()\n",
    "\n",
    "media = upload_image_to_twitter(url, api)\n",
    "\n",
    "tweet_response = tw_client.create_tweet(\n",
    "    text = story,\n",
    "    media_ids = [media.media_id]\n",
    ")\n",
    "\n",
    "tweet_url = f\"https://twitter.com/firecitadel/status/{tweet_response.data['id']}\"\n",
    "print(tweet_url)"
   ]
  }
 ],
 "metadata": {
  "kernelspec": {
   "display_name": "gpt",
   "language": "python",
   "name": "gpt"
  },
  "language_info": {
   "codemirror_mode": {
    "name": "ipython",
    "version": 3
   },
   "file_extension": ".py",
   "mimetype": "text/x-python",
   "name": "python",
   "nbconvert_exporter": "python",
   "pygments_lexer": "ipython3",
   "version": "3.10.12"
  }
 },
 "nbformat": 4,
 "nbformat_minor": 5
}
